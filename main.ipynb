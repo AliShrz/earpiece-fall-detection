{
 "cells": [
  {
   "cell_type": "markdown",
   "metadata": {},
   "source": [
    "1st column is the acceleration data in the X axis measured by the sensor ADXL345.\n",
    "2nd column is the acceleration data in the Y axis measured by the sensor ADXL345.\n",
    "3rd column is the acceleration data in the Z axis measured by the sensor ADXL345.\n",
    "\n",
    "4th column is the rotation data in the X axis measured by the sensor ITG3200.\n",
    "5th column is the rotation data in the Y axis measured by the sensor ITG3200.\n",
    "6th column is the rotation data in the Z axis measured by the sensor ITG3200.\n",
    "\n",
    "7th column is the acceleration data in the X axis measured by the sensor MMA8451Q.\n",
    "8th column is the acceleration data in the Y axis measured by the sensor MMA8451Q.\n",
    "9th column is the acceleration data in the Z axis measured by the sensor MMA8451Q.\n",
    "\n",
    "File name format:\n",
    "**<ADL OR FALL_CODE>_<SUBJECT_ID>_<TRIAL_NO>.txt**\n",
    "\n",
    "**Activities of Daily Living (ADL):**\n",
    "\n",
    "<!-- <div align=\"center\"> -->\n",
    "\n",
    "| Code | Activity                                                                                 | Trials | Duration |\n",
    "|:----:|------------------------------------------------------------------------------------------|:------:|:--------:|\n",
    "| D01  | Walking slowly                                                                           | 1      | 100s     |\n",
    "| D02  | Walking quickly                                                                          | 1      | 100s     |\n",
    "| D03  | Jogging slowly                                                                           | 1      | 100s     |\n",
    "| D04  | Jogging quickly                                                                          | 1      | 100s     |\n",
    "| D05  | Walking upstairs and downstairs slowly                                                   | 5      | 25s      |\n",
    "| D06  | Walking upstairs and downstairs quickly                                                  | 5      | 25s      |\n",
    "| D07  | Slowly sit in a half height chair, wait a moment, and up slowly                          | 5      | 12s      |\n",
    "| D08  | Quickly sit in a half height chair, wait a moment, and up quickly                        | 5      | 12s      |\n",
    "| D09  | Slowly sit in a low height chair, wait a moment, and up slowly                           | 5      | 12s      |\n",
    "| D10  | Quickly sit in a low height chair, wait a moment, and up quickly                         | 5      | 12s      |\n",
    "| D11  | Sitting a moment, trying to get up, and collapse into a chair                            | 5      | 12s      |\n",
    "| D12  | Sitting a moment, lying slowly, wait a moment, and sit again                             | 5      | 12s      |\n",
    "| D13  | Sitting a moment, lying quickly, wait a moment, and sit again                            | 5      | 12s      |\n",
    "| D14  | Being on one's back change to lateral position, wait a moment, and change to one's back  | 5      | 12s      |\n",
    "| D15  | Standing, slowly bending at knees, and getting up                                        | 5      | 12s      |\n",
    "| D16  | Standing, slowly bending without bending knees, and getting up                           | 5      | 12s      |\n",
    "| D17  | Standing, get into a car, remain seated and get out of the car                           | 5      | 25s      |\n",
    "| D18  | Stumble while walking                                                                    | 5      | 12s      |\n",
    "| D19  | Gently jump without falling (trying to reach a high object)                              | 5      | 12s      |\n",
    "\n",
    "\n",
    "Falls:\n",
    "\n",
    "| Code | Activity                                                                                 | Trials | Duration |\n",
    "|:----:|------------------------------------------------------------------------------------------|:------:|:--------:|\n",
    "| F01  | Fall forward while walking caused by a slip                                              | 5      | 15s      |\n",
    "| F02  | Fall backward while walking caused by a slip                                             | 5      | 15s      |\n",
    "| F03  | Lateral fall while walking caused by a slip                                              | 5      | 15s      |\n",
    "| F04  | Fall forward while walking caused by a trip                                              | 5      | 15s      |\n",
    "| F05  | Fall forward while jogging caused by a trip                                              | 5      | 15s      |\n",
    "| F06  | Vertical fall while walking caused by fainting                                           | 5      | 15s      |\n",
    "| F07  | Fall while walking, with use of hands in a table to dampen fall, caused by fainting      | 5      | 15s      |\n",
    "| F08  | Fall forward when trying to get up                                                       | 5      | 15s      |\n",
    "| F09  | Lateral fall when trying to get up                                                       | 5      | 15s      |\n",
    "| F10  | Fall forward when trying to sit down                                                     | 5      | 15s      |\n",
    "| F11  | Fall backward when trying to sit down                                                    | 5      | 15s      |\n",
    "| F12  | Lateral fall when trying to sit down                                                     | 5      | 15s      |\n",
    "| F13  | Fall forward while sitting, caused by fainting or falling asleep                         | 5      | 15s      |\n",
    "| F14  | Fall backward while sitting, caused by fainting or falling asleep                        | 5      | 15s      |\n",
    "| F15  | Lateral fall while sitting, caused by fainting or falling asleep                         | 5      | 15s      |\n",
    "<!-- </div> -->"
   ]
  },
  {
   "cell_type": "markdown",
   "metadata": {},
   "source": [
    "File name format:\n",
    "\n",
    "**<ADL OR FALL_CODE>_<SUBJECT_ID>_<TRIAL_NO>.txt**\n",
    "\n",
    "- 23 adult subject    ---> SA01 ~ SA23\n",
    "- 15 elderly subject  ---> SE01~ SE15"
   ]
  },
  {
   "cell_type": "code",
   "execution_count": null,
   "metadata": {},
   "outputs": [],
   "source": [
    "import numpy as np\n",
    "import matplotlib.pyplot as plt\n",
    "import pandas as pd\n",
    "import os"
   ]
  },
  {
   "cell_type": "code",
   "execution_count": null,
   "metadata": {},
   "outputs": [],
   "source": [
    "df_d = pd.read_csv(\"DataSet/SisFall_dataset/SA01/D01_SA01_R01.txt\", sep=\",\", header=None, names=[\"ADXL_x\", \"ADXL_y\", \"ADXL_z\", \"gyr_x\", \"gyr_y\", \"gyr_z\", \"MMA8451_x\", \"MMA8451_y\", \"MMA8451_z\", \"time\"])\n",
    "print(df_d)\n",
    "df_f = pd.read_csv(\"DataSet/SisFall_dataset/SA01/F01_SA01_R01.txt\", sep=\",\", header=None, names=[\"ADXL_x\", \"ADXL_y\", \"ADXL_z\", \"gyr_x\", \"gyr_y\", \"gyr_z\", \"MMA8451_x\", \"MMA8451_y\", \"MMA8451_z\", \"time\"])\n",
    "print(df_f)"
   ]
  },
  {
   "cell_type": "code",
   "execution_count": null,
   "metadata": {},
   "outputs": [],
   "source": [
    "\n",
    "\n",
    "# Path to your main dataset folder\n",
    "base_path = 'DataSet/SisFall_dataset'\n",
    "\n",
    "# Create list of folder names (SA01 to SA23 and SE01 to SE15)\n",
    "subject_ids = [f'SA{str(i).zfill(2)}' for i in range(1, 24)] + [f'SE{str(i).zfill(2)}' for i in range(1, 16)]\n",
    "\n",
    "# List to store all data (each item is a 2D array from a file)\n",
    "all_data = []\n",
    "counter = 0\n",
    "\n",
    "for subject_id in subject_ids:\n",
    "    folder_path = os.path.join(base_path, subject_id)\n",
    "\n",
    "    if not os.path.isdir(folder_path):\n",
    "        print(f\"Folder not found: {folder_path}\")\n",
    "        continue\n",
    "\n",
    "    for filename in os.listdir(folder_path):\n",
    "        if filename.endswith('.txt'):\n",
    "            file_path = os.path.join(folder_path, filename)\n",
    "\n",
    "            try:\n",
    "                # Load the first 6 columns of comma-separated file\n",
    "                df = pd.read_csv(file_path, header=None, delimiter=',', usecols=[0, 1, 2, 3, 4, 5], on_bad_lines='skip')\n",
    "                # data = np.loadtxt(file_path, delimiter=',', usecols=[0, 1, 2, 3, 4, 5])\n",
    "                # Convert to NumPy array\n",
    "                data = df.to_numpy()\n",
    "\n",
    "                adxl_x = data[:, 0]\n",
    "                adxl_y = data[:, 1]\n",
    "                adxl_z = data[:, 2]\n",
    "                gyr_x = data[:, 3]\n",
    "                gyr_y = data[:, 4]\n",
    "                gyr_z = data[:, 5]\n",
    "                # Create a 2D array with the selected columns\n",
    "                data = np.column_stack((adxl_x, adxl_y, adxl_z, gyr_x, gyr_y, gyr_z))\n",
    "                data = data.transpose()  # Transpose the data to get the desired shape\n",
    "                # Append the 2D array to the list\n",
    "                all_data.append(data)\n",
    "                counter += 1\n",
    "\n",
    "            except Exception as e:\n",
    "                print(f\"Error reading {file_path}: {e}\")\n",
    "                \n",
    "print(f\"Total files processed: {counter}\")\n"
   ]
  },
  {
   "cell_type": "code",
   "execution_count": 127,
   "metadata": {},
   "outputs": [
    {
     "data": {
      "text/plain": [
       "4505"
      ]
     },
     "execution_count": 127,
     "metadata": {},
     "output_type": "execute_result"
    }
   ],
   "source": [
    "len(all_data)\n"
   ]
  },
  {
   "cell_type": "code",
   "execution_count": 128,
   "metadata": {},
   "outputs": [
    {
     "data": {
      "text/plain": [
       "(6, 5000)"
      ]
     },
     "execution_count": 128,
     "metadata": {},
     "output_type": "execute_result"
    }
   ],
   "source": [
    "all_data[4504].shape  # Check the shape of the first 2D array"
   ]
  },
  {
   "cell_type": "code",
   "execution_count": 130,
   "metadata": {},
   "outputs": [
    {
     "data": {
      "text/plain": [
       "array([ 17,  15,   1, ..., -15, -18, -26])"
      ]
     },
     "execution_count": 130,
     "metadata": {},
     "output_type": "execute_result"
    }
   ],
   "source": [
    "all_data[0][0,:]"
   ]
  },
  {
   "cell_type": "code",
   "execution_count": 101,
   "metadata": {},
   "outputs": [
    {
     "data": {
      "text/plain": [
       "array([ 17,  15,   1, ..., -15, -18, -26])"
      ]
     },
     "execution_count": 101,
     "metadata": {},
     "output_type": "execute_result"
    }
   ],
   "source": [
    "a = all_data_combined_array[0,0,:]\n",
    "a"
   ]
  },
  {
   "cell_type": "code",
   "execution_count": 66,
   "metadata": {},
   "outputs": [
    {
     "name": "stdout",
     "output_type": "stream",
     "text": [
      "2701\n"
     ]
    }
   ],
   "source": [
    "print(len(all_data_combined))"
   ]
  },
  {
   "cell_type": "code",
   "execution_count": 67,
   "metadata": {},
   "outputs": [
    {
     "name": "stdout",
     "output_type": "stream",
     "text": [
      "✅ Read errors: 0\n",
      "✅ File errors: 301\n"
     ]
    }
   ],
   "source": [
    "# print(f\"\\n✅ Total records collected: {len(all_data_df)}\")\n",
    "print(f\"✅ Read errors: {read_error}\")\n",
    "print(f\"✅ File errors: {file_error}\")"
   ]
  },
  {
   "cell_type": "code",
   "execution_count": 42,
   "metadata": {},
   "outputs": [
    {
     "data": {
      "text/html": [
       "<div>\n",
       "<style scoped>\n",
       "    .dataframe tbody tr th:only-of-type {\n",
       "        vertical-align: middle;\n",
       "    }\n",
       "\n",
       "    .dataframe tbody tr th {\n",
       "        vertical-align: top;\n",
       "    }\n",
       "\n",
       "    .dataframe thead th {\n",
       "        text-align: right;\n",
       "    }\n",
       "</style>\n",
       "<table border=\"1\" class=\"dataframe\">\n",
       "  <thead>\n",
       "    <tr style=\"text-align: right;\">\n",
       "      <th></th>\n",
       "      <th>0</th>\n",
       "      <th>1</th>\n",
       "      <th>2</th>\n",
       "      <th>3</th>\n",
       "      <th>4</th>\n",
       "      <th>5</th>\n",
       "      <th>label</th>\n",
       "    </tr>\n",
       "  </thead>\n",
       "  <tbody>\n",
       "    <tr>\n",
       "      <th>0</th>\n",
       "      <td>17</td>\n",
       "      <td>-179</td>\n",
       "      <td>-99</td>\n",
       "      <td>-18</td>\n",
       "      <td>-504</td>\n",
       "      <td>-352</td>\n",
       "      <td>D01</td>\n",
       "    </tr>\n",
       "    <tr>\n",
       "      <th>1</th>\n",
       "      <td>15</td>\n",
       "      <td>-174</td>\n",
       "      <td>-90</td>\n",
       "      <td>-53</td>\n",
       "      <td>-568</td>\n",
       "      <td>-306</td>\n",
       "      <td>D01</td>\n",
       "    </tr>\n",
       "    <tr>\n",
       "      <th>2</th>\n",
       "      <td>1</td>\n",
       "      <td>-176</td>\n",
       "      <td>-81</td>\n",
       "      <td>-84</td>\n",
       "      <td>-613</td>\n",
       "      <td>-271</td>\n",
       "      <td>D01</td>\n",
       "    </tr>\n",
       "    <tr>\n",
       "      <th>3</th>\n",
       "      <td>-10</td>\n",
       "      <td>-180</td>\n",
       "      <td>-77</td>\n",
       "      <td>-104</td>\n",
       "      <td>-647</td>\n",
       "      <td>-227</td>\n",
       "      <td>D01</td>\n",
       "    </tr>\n",
       "    <tr>\n",
       "      <th>4</th>\n",
       "      <td>-21</td>\n",
       "      <td>-191</td>\n",
       "      <td>-63</td>\n",
       "      <td>-128</td>\n",
       "      <td>-675</td>\n",
       "      <td>-191</td>\n",
       "      <td>D01</td>\n",
       "    </tr>\n",
       "    <tr>\n",
       "      <th>...</th>\n",
       "      <td>...</td>\n",
       "      <td>...</td>\n",
       "      <td>...</td>\n",
       "      <td>...</td>\n",
       "      <td>...</td>\n",
       "      <td>...</td>\n",
       "      <td>...</td>\n",
       "    </tr>\n",
       "    <tr>\n",
       "      <th>10437810</th>\n",
       "      <td>-14</td>\n",
       "      <td>-213</td>\n",
       "      <td>-143</td>\n",
       "      <td>-5</td>\n",
       "      <td>64</td>\n",
       "      <td>-8</td>\n",
       "      <td>D17</td>\n",
       "    </tr>\n",
       "    <tr>\n",
       "      <th>10437811</th>\n",
       "      <td>-13</td>\n",
       "      <td>-210</td>\n",
       "      <td>-145</td>\n",
       "      <td>-7</td>\n",
       "      <td>65</td>\n",
       "      <td>-6</td>\n",
       "      <td>D17</td>\n",
       "    </tr>\n",
       "    <tr>\n",
       "      <th>10437812</th>\n",
       "      <td>-13</td>\n",
       "      <td>-216</td>\n",
       "      <td>-143</td>\n",
       "      <td>-9</td>\n",
       "      <td>67</td>\n",
       "      <td>-4</td>\n",
       "      <td>D17</td>\n",
       "    </tr>\n",
       "    <tr>\n",
       "      <th>10437813</th>\n",
       "      <td>-14</td>\n",
       "      <td>-213</td>\n",
       "      <td>-141</td>\n",
       "      <td>-9</td>\n",
       "      <td>71</td>\n",
       "      <td>-3</td>\n",
       "      <td>D17</td>\n",
       "    </tr>\n",
       "    <tr>\n",
       "      <th>10437814</th>\n",
       "      <td>-15</td>\n",
       "      <td>-213</td>\n",
       "      <td>-143</td>\n",
       "      <td>-10</td>\n",
       "      <td>73</td>\n",
       "      <td>-1</td>\n",
       "      <td>D17</td>\n",
       "    </tr>\n",
       "  </tbody>\n",
       "</table>\n",
       "<p>10437815 rows × 7 columns</p>\n",
       "</div>"
      ],
      "text/plain": [
       "           0    1    2    3    4    5 label\n",
       "0         17 -179  -99  -18 -504 -352   D01\n",
       "1         15 -174  -90  -53 -568 -306   D01\n",
       "2          1 -176  -81  -84 -613 -271   D01\n",
       "3        -10 -180  -77 -104 -647 -227   D01\n",
       "4        -21 -191  -63 -128 -675 -191   D01\n",
       "...       ..  ...  ...  ...  ...  ...   ...\n",
       "10437810 -14 -213 -143   -5   64   -8   D17\n",
       "10437811 -13 -210 -145   -7   65   -6   D17\n",
       "10437812 -13 -216 -143   -9   67   -4   D17\n",
       "10437813 -14 -213 -141   -9   71   -3   D17\n",
       "10437814 -15 -213 -143  -10   73   -1   D17\n",
       "\n",
       "[10437815 rows x 7 columns]"
      ]
     },
     "execution_count": 42,
     "metadata": {},
     "output_type": "execute_result"
    }
   ],
   "source": [
    "all_data_df\n"
   ]
  },
  {
   "cell_type": "code",
   "execution_count": 44,
   "metadata": {},
   "outputs": [
    {
     "data": {
      "text/plain": [
       "dict"
      ]
     },
     "execution_count": 44,
     "metadata": {},
     "output_type": "execute_result"
    }
   ],
   "source": [
    "type(selected_data)"
   ]
  },
  {
   "cell_type": "code",
   "execution_count": null,
   "metadata": {},
   "outputs": [],
   "source": [
    "df.describe()"
   ]
  },
  {
   "cell_type": "code",
   "execution_count": null,
   "metadata": {},
   "outputs": [],
   "source": [
    "print(f\"Total read errors: {read_error}\")\n",
    "print(f\"Total file errors: {file_error}\")"
   ]
  },
  {
   "cell_type": "code",
   "execution_count": 79,
   "metadata": {},
   "outputs": [
    {
     "data": {
      "text/html": [
       "<div>\n",
       "<style scoped>\n",
       "    .dataframe tbody tr th:only-of-type {\n",
       "        vertical-align: middle;\n",
       "    }\n",
       "\n",
       "    .dataframe tbody tr th {\n",
       "        vertical-align: top;\n",
       "    }\n",
       "\n",
       "    .dataframe thead th {\n",
       "        text-align: right;\n",
       "    }\n",
       "</style>\n",
       "<table border=\"1\" class=\"dataframe\">\n",
       "  <thead>\n",
       "    <tr style=\"text-align: right;\">\n",
       "      <th></th>\n",
       "      <th>ADXL_x</th>\n",
       "      <th>ADXL_y</th>\n",
       "      <th>ADXL_z</th>\n",
       "      <th>gyr_x</th>\n",
       "      <th>gyr_y</th>\n",
       "      <th>gyr_z</th>\n",
       "      <th>MMA8451_x</th>\n",
       "      <th>MMA8451_y</th>\n",
       "      <th>MMA8451_z</th>\n",
       "      <th>time</th>\n",
       "    </tr>\n",
       "  </thead>\n",
       "  <tbody>\n",
       "    <tr>\n",
       "      <th>0</th>\n",
       "      <td>17</td>\n",
       "      <td>-179</td>\n",
       "      <td>-99</td>\n",
       "      <td>-18</td>\n",
       "      <td>-504</td>\n",
       "      <td>-352</td>\n",
       "      <td>76</td>\n",
       "      <td>-697</td>\n",
       "      <td>-279;</td>\n",
       "      <td>NaN</td>\n",
       "    </tr>\n",
       "    <tr>\n",
       "      <th>1</th>\n",
       "      <td>15</td>\n",
       "      <td>-174</td>\n",
       "      <td>-90</td>\n",
       "      <td>-53</td>\n",
       "      <td>-568</td>\n",
       "      <td>-306</td>\n",
       "      <td>48</td>\n",
       "      <td>-675</td>\n",
       "      <td>-254;</td>\n",
       "      <td>NaN</td>\n",
       "    </tr>\n",
       "    <tr>\n",
       "      <th>2</th>\n",
       "      <td>1</td>\n",
       "      <td>-176</td>\n",
       "      <td>-81</td>\n",
       "      <td>-84</td>\n",
       "      <td>-613</td>\n",
       "      <td>-271</td>\n",
       "      <td>-2</td>\n",
       "      <td>-668</td>\n",
       "      <td>-221;</td>\n",
       "      <td>NaN</td>\n",
       "    </tr>\n",
       "    <tr>\n",
       "      <th>3</th>\n",
       "      <td>-10</td>\n",
       "      <td>-180</td>\n",
       "      <td>-77</td>\n",
       "      <td>-104</td>\n",
       "      <td>-647</td>\n",
       "      <td>-227</td>\n",
       "      <td>-34</td>\n",
       "      <td>-697</td>\n",
       "      <td>-175;</td>\n",
       "      <td>NaN</td>\n",
       "    </tr>\n",
       "    <tr>\n",
       "      <th>4</th>\n",
       "      <td>-21</td>\n",
       "      <td>-191</td>\n",
       "      <td>-63</td>\n",
       "      <td>-128</td>\n",
       "      <td>-675</td>\n",
       "      <td>-191</td>\n",
       "      <td>-74</td>\n",
       "      <td>-741</td>\n",
       "      <td>-133;</td>\n",
       "      <td>NaN</td>\n",
       "    </tr>\n",
       "  </tbody>\n",
       "</table>\n",
       "</div>"
      ],
      "text/plain": [
       "   ADXL_x  ADXL_y  ADXL_z  gyr_x  gyr_y  gyr_z  MMA8451_x  MMA8451_y  \\\n",
       "0      17    -179     -99    -18   -504   -352         76       -697   \n",
       "1      15    -174     -90    -53   -568   -306         48       -675   \n",
       "2       1    -176     -81    -84   -613   -271         -2       -668   \n",
       "3     -10    -180     -77   -104   -647   -227        -34       -697   \n",
       "4     -21    -191     -63   -128   -675   -191        -74       -741   \n",
       "\n",
       "  MMA8451_z  time  \n",
       "0     -279;   NaN  \n",
       "1     -254;   NaN  \n",
       "2     -221;   NaN  \n",
       "3     -175;   NaN  \n",
       "4     -133;   NaN  "
      ]
     },
     "execution_count": 79,
     "metadata": {},
     "output_type": "execute_result"
    }
   ],
   "source": [
    "\n",
    "subject_id = \"D01\"\n",
    "trial_no = \"R01\"\n",
    "folder_id = \"SA01\"\n",
    "folder = \"DataSet/SisFall_dataset/SA01\"\n",
    "# print(f\"Reading data from {folder}/{subject_id}_{folder_id}_{trial_no}.txt\")\n",
    "\n",
    "df = pd.read_csv(f\"{folder}/{subject_id}_{folder_id}_{trial_no}.txt\", sep=\",\", header=None, names=[\"ADXL_x\", \"ADXL_y\", \"ADXL_z\", \"gyr_x\", \"gyr_y\", \"gyr_z\", \"MMA8451_x\", \"MMA8451_y\", \"MMA8451_z\", \"time\"])\n",
    "df.head()"
   ]
  },
  {
   "cell_type": "code",
   "execution_count": 80,
   "metadata": {},
   "outputs": [],
   "source": [
    "subject_id_list = [f\"SA{str(i).zfill(2)}\" for i in range(1, 24)]\n",
    "trial_no_list = [f\"R{str(i).zfill(2)}\" for i in range(1, 11)]\n",
    "trial_no_list = [f\"R{str(i).zfill(2)}\" for i in range(1, 11)]"
   ]
  },
  {
   "cell_type": "code",
   "execution_count": 81,
   "metadata": {},
   "outputs": [
    {
     "name": "stdout",
     "output_type": "stream",
     "text": [
      "        0    1    2    3    4    5\n",
      "0      17 -179  -99  -18 -504 -352\n",
      "1      15 -174  -90  -53 -568 -306\n",
      "2       1 -176  -81  -84 -613 -271\n",
      "3     -10 -180  -77 -104 -647 -227\n",
      "4     -21 -191  -63 -128 -675 -191\n",
      "...    ..  ...  ...  ...  ...  ...\n",
      "19994   0 -158 -109 -292 -472 -547\n",
      "19995 -12 -154  -96 -355 -527 -509\n",
      "19996 -15 -166  -84 -399 -560 -475\n",
      "19997 -18 -188  -76 -434 -577 -438\n",
      "19998 -26 -217  -66 -478 -589 -398\n",
      "\n",
      "[19999 rows x 6 columns]\n",
      "<class 'numpy.ndarray'>\n",
      "(19999, 6)\n",
      "(6, 19999)\n",
      "[  17 -179  -99  -18 -504 -352]\n"
     ]
    }
   ],
   "source": [
    "# df_d = pd.read_csv(\"DataSet/SisFall_dataset/SA01/D01_SA01_R01.txt\", sep=\",\", header=None, names=[\"ADXL_x\", \"ADXL_y\", \"ADXL_z\", \"gyr_x\", \"gyr_y\", \"gyr_z\", \"MMA8451_x\", \"MMA8451_y\", \"MMA8451_z\", \"time\"])\n",
    "# print(df_d)\n",
    "# df_f = pd.read_csv(\"DataSet/SisFall_dataset/SA01/F01_SA01_R01.txt\", sep=\",\", header=None, names=[\"ADXL_x\", \"ADXL_y\", \"ADXL_z\", \"gyr_x\", \"gyr_y\", \"gyr_z\", \"MMA8451_x\", \"MMA8451_y\", \"MMA8451_z\", \"time\"])\n",
    "# print(df_f)\n",
    "\n",
    "df_f = pd.read_csv(\"DataSet/SisFall_dataset/SA01/D01_SA01_R01.txt\", sep=\",\", header=None)\n",
    "# print(type(df_f))\n",
    "print(df_f.iloc[:, [0, 1, 2, 3, 4, 5]])\n",
    "data = df_f.iloc[:, [0, 1, 2, 3, 4, 5]].values\n",
    "print(type(data))\n",
    "# print(data)\n",
    "print(data.shape)\n",
    "data = data.transpose()\n",
    "print(data.shape)\n",
    "print(data[:,0])\n"
   ]
  },
  {
   "cell_type": "code",
   "execution_count": 82,
   "metadata": {},
   "outputs": [
    {
     "data": {
      "text/plain": [
       "[<matplotlib.lines.Line2D at 0x146d307a0>]"
      ]
     },
     "execution_count": 82,
     "metadata": {},
     "output_type": "execute_result"
    },
    {
     "data": {
      "image/png": "[encoded data removed]",
      "text/plain": [
       "<Figure size 640x480 with 1 Axes>"
      ]
     },
     "metadata": {},
     "output_type": "display_data"
    }
   ],
   "source": [
    "plt.plot(data[1, :], label=\"ADXL_x\")"
   ]
  },
  {
   "cell_type": "code",
   "execution_count": 83,
   "metadata": {},
   "outputs": [
    {
     "data": {
      "text/plain": [
       "[<matplotlib.lines.Line2D at 0x141735220>]"
      ]
     },
     "execution_count": 83,
     "metadata": {},
     "output_type": "execute_result"
    },
    {
     "data": {
      "image/png": "[encoded data removed]",
      "text/plain": [
       "<Figure size 640x480 with 1 Axes>"
      ]
     },
     "metadata": {},
     "output_type": "display_data"
    }
   ],
   "source": [
    "plt.plot(a)"
   ]
  },
  {
   "cell_type": "code",
   "execution_count": null,
   "metadata": {},
   "outputs": [],
   "source": [
    "plt.figure(figsize=(15, 15))\n",
    "plt.subplot(3, 1, 1)\n",
    "plt.plot(df_f[\"ADXL_x\"], label=\"ADXL_x\")\n",
    "plt.plot(df_f[\"ADXL_y\"], label=\"ADXL_y\")\n",
    "plt.plot(df_f[\"ADXL_z\"], label=\"ADXL_z\")\n",
    "plt.title(\"Accelerometer Data\")\n",
    "plt.xlabel(\"Sample\")\n",
    "plt.ylabel(\"Acceleration (g)\")\n",
    "plt.legend()\n",
    "plt.grid()\n",
    "\n",
    "plt.subplot(3, 1, 2)\n",
    "plt.plot(df_f[\"gyr_x\"], label=\"gyr_x\")\n",
    "plt.plot(df_f[\"gyr_y\"], label=\"gyr_y\")\n",
    "plt.plot(df_f[\"gyr_z\"], label=\"gyr_z\")\n",
    "plt.title(\"Gyroscope Data\")\n",
    "plt.xlabel(\"Sample\")\n",
    "plt.ylabel(\"Angular Velocity (deg/s)\")\n",
    "plt.legend()\n",
    "plt.grid()\n",
    "\n",
    "\n",
    "plt.subplot(3, 1, 3)\n",
    "plt.plot(df_f[\"MMA8451_x\"], label=\"MMA8451_x\")\n",
    "plt.plot(df_f[\"MMA8451_y\"], label=\"MMA8451_y\")  \n",
    "# plt.plot(df_f[\"MMA8451_z\"], label=\"MMA8451_z\")\n",
    "plt.title(\"MMA8451 Data\")\n",
    "plt.xlabel(\"Sample\")\n",
    "plt.ylabel(\"Acceleration (g)\")\n",
    "plt.legend()\n",
    "plt.grid()\n",
    "\n",
    "plt.show()\n"
   ]
  },
  {
   "cell_type": "code",
   "execution_count": null,
   "metadata": {},
   "outputs": [],
   "source": []
  }
 ],
 "metadata": {
  "kernelspec": {
   "display_name": "base",
   "language": "python",
   "name": "python3"
  },
  "language_info": {
   "codemirror_mode": {
    "name": "ipython",
    "version": 3
   },
   "file_extension": ".py",
   "mimetype": "text/x-python",
   "name": "python",
   "nbconvert_exporter": "python",
   "pygments_lexer": "ipython3",
   "version": "3.12.4"
  }
 },
 "nbformat": 4,
 "nbformat_minor": 2
}
