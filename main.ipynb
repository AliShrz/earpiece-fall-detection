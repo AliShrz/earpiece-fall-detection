{
 "cells": [
  {
   "cell_type": "markdown",
   "metadata": {},
   "source": [
    "1st column is the acceleration data in the X axis measured by the sensor ADXL345.\n",
    "2nd column is the acceleration data in the Y axis measured by the sensor ADXL345.\n",
    "3rd column is the acceleration data in the Z axis measured by the sensor ADXL345.\n",
    "\n",
    "4th column is the rotation data in the X axis measured by the sensor ITG3200.\n",
    "5th column is the rotation data in the Y axis measured by the sensor ITG3200.\n",
    "6th column is the rotation data in the Z axis measured by the sensor ITG3200.\n",
    "\n",
    "7th column is the acceleration data in the X axis measured by the sensor MMA8451Q.\n",
    "8th column is the acceleration data in the Y axis measured by the sensor MMA8451Q.\n",
    "9th column is the acceleration data in the Z axis measured by the sensor MMA8451Q.\n",
    "\n",
    "File name format:\n",
    "**<ADL OR FALL_CODE>_<SUBJECT_ID>_<TRIAL_NO>.txt**\n",
    "\n",
    "**Activities of Daily Living (ADL):**\n",
    "\n",
    "<!-- <div align=\"center\"> -->\n",
    "\n",
    "| Code | Activity                                                                                 | Trials | Duration |\n",
    "|:----:|------------------------------------------------------------------------------------------|:------:|:--------:|\n",
    "| D01  | Walking slowly                                                                           | 1      | 100s     |\n",
    "| D02  | Walking quickly                                                                          | 1      | 100s     |\n",
    "| D03  | Jogging slowly                                                                           | 1      | 100s     |\n",
    "| D04  | Jogging quickly                                                                          | 1      | 100s     |\n",
    "| D05  | Walking upstairs and downstairs slowly                                                   | 5      | 25s      |\n",
    "| D06  | Walking upstairs and downstairs quickly                                                  | 5      | 25s      |\n",
    "| D07  | Slowly sit in a half height chair, wait a moment, and up slowly                          | 5      | 12s      |\n",
    "| D08  | Quickly sit in a half height chair, wait a moment, and up quickly                        | 5      | 12s      |\n",
    "| D09  | Slowly sit in a low height chair, wait a moment, and up slowly                           | 5      | 12s      |\n",
    "| D10  | Quickly sit in a low height chair, wait a moment, and up quickly                         | 5      | 12s      |\n",
    "| D11  | Sitting a moment, trying to get up, and collapse into a chair                            | 5      | 12s      |\n",
    "| D12  | Sitting a moment, lying slowly, wait a moment, and sit again                             | 5      | 12s      |\n",
    "| D13  | Sitting a moment, lying quickly, wait a moment, and sit again                            | 5      | 12s      |\n",
    "| D14  | Being on one's back change to lateral position, wait a moment, and change to one's back  | 5      | 12s      |\n",
    "| D15  | Standing, slowly bending at knees, and getting up                                        | 5      | 12s      |\n",
    "| D16  | Standing, slowly bending without bending knees, and getting up                           | 5      | 12s      |\n",
    "| D17  | Standing, get into a car, remain seated and get out of the car                           | 5      | 25s      |\n",
    "| D18  | Stumble while walking                                                                    | 5      | 12s      |\n",
    "| D19  | Gently jump without falling (trying to reach a high object)                              | 5      | 12s      |\n",
    "\n",
    "\n",
    "Falls:\n",
    "\n",
    "| Code | Activity                                                                                 | Trials | Duration |\n",
    "|:----:|------------------------------------------------------------------------------------------|:------:|:--------:|\n",
    "| F01  | Fall forward while walking caused by a slip                                              | 5      | 15s      |\n",
    "| F02  | Fall backward while walking caused by a slip                                             | 5      | 15s      |\n",
    "| F03  | Lateral fall while walking caused by a slip                                              | 5      | 15s      |\n",
    "| F04  | Fall forward while walking caused by a trip                                              | 5      | 15s      |\n",
    "| F05  | Fall forward while jogging caused by a trip                                              | 5      | 15s      |\n",
    "| F06  | Vertical fall while walking caused by fainting                                           | 5      | 15s      |\n",
    "| F07  | Fall while walking, with use of hands in a table to dampen fall, caused by fainting      | 5      | 15s      |\n",
    "| F08  | Fall forward when trying to get up                                                       | 5      | 15s      |\n",
    "| F09  | Lateral fall when trying to get up                                                       | 5      | 15s      |\n",
    "| F10  | Fall forward when trying to sit down                                                     | 5      | 15s      |\n",
    "| F11  | Fall backward when trying to sit down                                                    | 5      | 15s      |\n",
    "| F12  | Lateral fall when trying to sit down                                                     | 5      | 15s      |\n",
    "| F13  | Fall forward while sitting, caused by fainting or falling asleep                         | 5      | 15s      |\n",
    "| F14  | Fall backward while sitting, caused by fainting or falling asleep                        | 5      | 15s      |\n",
    "| F15  | Lateral fall while sitting, caused by fainting or falling asleep                         | 5      | 15s      |\n",
    "<!-- </div> -->"
   ]
  },
  {
   "cell_type": "markdown",
   "metadata": {},
   "source": [
    "File name format:\n",
    "\n",
    "**<ADL OR FALL_CODE>_<SUBJECT_ID>_<TRIAL_NO>.txt**\n",
    "\n",
    "- 23 adult subject    ---> SA01 ~ SA23\n",
    "- 15 elderly subject  ---> SE01~ SE15"
   ]
  },
  {
   "cell_type": "code",
   "execution_count": null,
   "metadata": {},
   "outputs": [
    {
     "ename": "",
     "evalue": "",
     "output_type": "error",
     "traceback": [
      "\u001b[1;31mFailed to start the Kernel 'base (Python 3.12.4)'. \n",
      "\u001b[1;31mView Jupyter <a href='command:jupyter.viewOutput'>log</a> for further details. ENOSPC: no space left on device, write"
     ]
    }
   ],
   "source": [
    "import numpy as np\n",
    "import matplotlib.pyplot as plt\n",
    "import pandas as pd\n",
    "import os"
   ]
  },
  {
   "cell_type": "code",
   "execution_count": null,
   "metadata": {},
   "outputs": [],
   "source": [
    "# Path to your main dataset folder\n",
    "base_path = 'DataSet/SisFall_dataset'\n",
    "\n",
    "# Create list of folder names (SA01 to SA23 and SE01 to SE15)\n",
    "subject_ids = [f'SA{str(i).zfill(2)}' for i in range(1, 24)] + [f'SE{str(i).zfill(2)}' for i in range(1, 16)]\n",
    "\n",
    "all_data = []       # List to store all data (each item is a 2D array from a file)\n",
    "all_labels = []     # List to store labels corresponding to each data array\n",
    "\n",
    "counter = 0\n",
    "ADL = 0\n",
    "FALL = 0\n",
    "\n",
    "for subject_id in subject_ids:\n",
    "    folder_path = os.path.join(base_path, subject_id)\n",
    "\n",
    "    if not os.path.isdir(folder_path):\n",
    "        print(f\"Folder not found: {folder_path}\")\n",
    "        continue\n",
    "\n",
    "    for filename in os.listdir(folder_path):\n",
    "        if filename.endswith('.txt'):\n",
    "            file_path = os.path.join(folder_path, filename)\n",
    "\n",
    "            try:\n",
    "                # Extract activity code from filename (assuming format is like 'D01_01.txt')\n",
    "                activity_code = filename.split('_')[0]\n",
    "                # determine label\n",
    "                if activity_code.startswith('D'):\n",
    "                    label = 'ADL'\n",
    "                    ADL += 1\n",
    "                elif activity_code.startswith('F'):\n",
    "                    label = 'Fall'\n",
    "                    FALL += 1\n",
    "                else:\n",
    "                    label = 'Unknown'\n",
    "\n",
    "                # Load the first 6 columns of comma-separated file\n",
    "                df = pd.read_csv(file_path, header=None, delimiter=',', usecols=[0, 1, 2, 3, 4, 5], on_bad_lines='skip')\n",
    "                data = df.to_numpy()    # Convert to NumPy array\n",
    "\n",
    "                adxl_x = data[:, 0]\n",
    "                adxl_y = data[:, 1]\n",
    "                adxl_z = data[:, 2]\n",
    "                gyr_x = data[:, 3]\n",
    "                gyr_y = data[:, 4]\n",
    "                gyr_z = data[:, 5]\n",
    "                \n",
    "                # Create a 2D array with the selected columns\n",
    "                data = np.column_stack((adxl_x, adxl_y, adxl_z, gyr_x, gyr_y, gyr_z))\n",
    "                data = data.transpose()  # Transpose the data to get the desired shape\n",
    "                \n",
    "                # Append the 2D array to the list\n",
    "                all_data.append(data)\n",
    "                all_labels.append(label)\n",
    "                counter += 1\n",
    "\n",
    "            except Exception as e:\n",
    "                print(f\"Error reading {file_path}: {e}\")\n",
    "                \n",
    "print(f\"Total files processed: {counter}\")\n",
    "print(f\"Total ADL labels: {ADL}\")\n",
    "print(f\"Total Fall labels: {FALL}\")\n"
   ]
  },
  {
   "cell_type": "markdown",
   "metadata": {},
   "source": [
    "## validating length/count of data to check if it is correct"
   ]
  },
  {
   "cell_type": "code",
   "execution_count": null,
   "metadata": {},
   "outputs": [],
   "source": [
    "print(f'number of total readings: {len(all_data)}')\n",
    "print(f'number of total labels: {len(all_labels)}')"
   ]
  },
  {
   "cell_type": "code",
   "execution_count": null,
   "metadata": {},
   "outputs": [],
   "source": [
    "# print number of unique labels and their counts\n",
    "unique_labels, counts = np.unique(all_labels, return_counts=True)\n",
    "print(\"Unique labels and their counts:\")\n",
    "for label, count in zip(unique_labels, counts):\n",
    "    print(f\"{label}: {count}\")"
   ]
  },
  {
   "cell_type": "markdown",
   "metadata": {},
   "source": [
    "## separate ADL from Fall"
   ]
  },
  {
   "cell_type": "code",
   "execution_count": null,
   "metadata": {},
   "outputs": [],
   "source": [
    "# create lists to store data for each label\n",
    "adls = []\n",
    "falls = []\n",
    "\n",
    "for i in range(len(all_labels)):\n",
    "    if all_labels[i] == 'ADL':\n",
    "        adls.append(all_data[i])\n",
    "    elif all_labels[i] == 'Fall':\n",
    "        falls.append(all_data[i])"
   ]
  },
  {
   "cell_type": "code",
   "execution_count": null,
   "metadata": {},
   "outputs": [],
   "source": [
    "len(adls), len(falls)"
   ]
  },
  {
   "cell_type": "code",
   "execution_count": null,
   "metadata": {},
   "outputs": [],
   "source": [
    "falls[1797].shape  # Check the shape of the first 2D array"
   ]
  },
  {
   "cell_type": "code",
   "execution_count": null,
   "metadata": {},
   "outputs": [],
   "source": [
    "falls[0][0,:]"
   ]
  },
  {
   "cell_type": "markdown",
   "metadata": {},
   "source": [
    "## plot random file"
   ]
  },
  {
   "cell_type": "code",
   "execution_count": null,
   "metadata": {},
   "outputs": [],
   "source": [
    "# compare plot of fall recording and adl recording\n",
    "\n",
    "all_axis_fall = np.abs(falls[0][0, :]) + np.abs(falls[0][1, :]) + np.abs(falls[0][2, :])\n",
    "all_axis_adl = np.abs(adls[0][0, :]) + np.abs(adls[0][1, :]) + np.abs(adls[0][2, :])\n",
    "\n",
    "plt.figure(figsize=(15, 15))\n",
    "\n",
    "# Plot the first 3 signals together\n",
    "plt.subplot(4, 1, 1)\n",
    "plt.plot(falls[0][0, :], label='X-axis')\n",
    "plt.plot(falls[0][1, :], label='Y-axis')\n",
    "plt.plot(falls[0][2, :], label='Z-axis')\n",
    "plt.plot(all_axis_fall, label='Combined Axis', linestyle='-')\n",
    "plt.title('ADXL Accelerometer Signals (Fall)')\n",
    "plt.ylim(-4000, 6000)\n",
    "plt.xlabel('Sample')\n",
    "plt.ylabel('Value')\n",
    "plt.legend()\n",
    "plt.grid()\n",
    "\n",
    "plt.subplot(4, 1, 2)\n",
    "plt.plot(adls[0][0, :], label='X-axis')\n",
    "plt.plot(adls[0][1, :], label='Y-axis')\n",
    "plt.plot(adls[0][2, :], label='Z-axis')\n",
    "plt.plot(all_axis_adl, label='Combined Axis', linestyle='-')\n",
    "plt.title('ADXL Accelerometer Signals (ADL)')\n",
    "plt.ylim(-4000, 6000)\n",
    "plt.xlabel('Sample')\n",
    "plt.ylabel('Value')\n",
    "plt.legend()\n",
    "plt.grid()\n",
    "\n",
    "# Plot the last 3 signals and adding together\n",
    "plt.subplot(4, 1, 3)\n",
    "plt.plot(falls[0][3, :], label='X-axis')\n",
    "plt.plot(falls[0][4, :], label='Y-axis')\n",
    "plt.plot(falls[0][5, :], label='Z-axis')\n",
    "plt.title('Gyroscope Signals (Fall)')\n",
    "plt.ylim(-30000, 40000)\n",
    "plt.xlabel('Sample')\n",
    "plt.ylabel('Value')\n",
    "plt.legend()\n",
    "plt.grid()\n",
    "\n",
    "plt.subplot(4, 1, 4)\n",
    "plt.plot(adls[0][3, :], label='X-axis')\n",
    "plt.plot(adls[0][4, :], label='Y-axis')\n",
    "plt.plot(adls[0][5, :], label='Z-axis')\n",
    "plt.title('Gyroscope Signals (ADL)')\n",
    "plt.ylim(-30000, 40000)\n",
    "plt.xlabel('Sample')\n",
    "plt.ylabel('Value')\n",
    "plt.legend()\n",
    "plt.grid()\n",
    "\n",
    "\n",
    "plt.suptitle('Sensor Signals for Fall Detection', fontsize=16)\n",
    "plt.tight_layout()\n",
    "plt.show()"
   ]
  },
  {
   "cell_type": "code",
   "execution_count": null,
   "metadata": {},
   "outputs": [],
   "source": [
    "# compare plot of fall recording and adl recording\n",
    "plt.figure(figsize=(15, 10))\n",
    "# Plot the first 3 signals together"
   ]
  },
  {
   "cell_type": "code",
   "execution_count": null,
   "metadata": {},
   "outputs": [],
   "source": [
    "all_axis = np.abs(falls[0][0, :]) + np.abs(falls[0][1, :]) + np.abs(falls[0][2, :])\n",
    "plt.plot(all_axis)\n",
    "plt.title('Combined Axis Signal')\n",
    "plt.xlabel('Sample')\n",
    "plt.ylabel('Value')\n",
    "plt.grid()\n",
    "plt.show()"
   ]
  },
  {
   "cell_type": "code",
   "execution_count": null,
   "metadata": {},
   "outputs": [],
   "source": []
  }
 ],
 "metadata": {
  "kernelspec": {
   "display_name": "base",
   "language": "python",
   "name": "python3"
  },
  "language_info": {
   "codemirror_mode": {
    "name": "ipython",
    "version": 3
   },
   "file_extension": ".py",
   "mimetype": "text/x-python",
   "name": "python",
   "nbconvert_exporter": "python",
   "pygments_lexer": "ipython3",
   "version": "3.12.4"
  }
 },
 "nbformat": 4,
 "nbformat_minor": 2
}
